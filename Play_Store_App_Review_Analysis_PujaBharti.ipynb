{
  "nbformat": 4,
  "nbformat_minor": 0,
  "metadata": {
    "colab": {
      "name": "Play Store App Review Analysis - PujaBharti",
      "provenance": [],
      "collapsed_sections": [],
      "authorship_tag": "ABX9TyP9ekx1IKNK4DAYE7e1xi31",
      "include_colab_link": true
    },
    "kernelspec": {
      "name": "python3",
      "display_name": "Python 3"
    },
    "language_info": {
      "name": "python"
    }
  },
  "cells": [
    {
      "cell_type": "markdown",
      "metadata": {
        "id": "view-in-github",
        "colab_type": "text"
      },
      "source": [
        "<a href=\"https://colab.research.google.com/github/upadhyaypuja/upadhyaypuja/blob/main/Play_Store_App_Review_Analysis_PujaBharti.ipynb\" target=\"_parent\"><img src=\"https://colab.research.google.com/assets/colab-badge.svg\" alt=\"Open In Colab\"/></a>"
      ]
    },
    {
      "cell_type": "markdown",
      "metadata": {
        "id": "4L21W_wA28w8"
      },
      "source": [
        "# Each app (row) has values for catergory, rating, size, and more. Another dataset contains customer reviews of the android apps.\n",
        "# Explore and analyze the data to discover key factors responsible for app engagement and success."
      ]
    },
    {
      "cell_type": "markdown",
      "metadata": {
        "id": "IRkU_TeM3IS6"
      },
      "source": [
        "# Here we are going to analyze the data of play store apps,we are havng two dataset i,e play store apps dataset and user reviews dataset.we are going to use some libraries of python to analyze our dataset."
      ]
    },
    {
      "cell_type": "code",
      "metadata": {
        "id": "tg3HJv8s3YoO"
      },
      "source": [
        "#importing some important libraries\n",
        "import pandas as pd\n",
        "import numpy as np\n",
        "import matplotlib.pyplot as plt\n",
        "import seaborn as sns  # visualization tool\n"
      ],
      "execution_count": 4,
      "outputs": []
    },
    {
      "cell_type": "markdown",
      "metadata": {
        "id": "KRdiZ-rn3lYN"
      },
      "source": [
        "# Let's mount our google drive"
      ]
    },
    {
      "cell_type": "code",
      "metadata": {
        "colab": {
          "base_uri": "https://localhost:8080/"
        },
        "id": "uWd9AUIg34p4",
        "outputId": "826ae46d-c7de-41ca-9de1-2351cd5bc625"
      },
      "source": [
        "from google.colab import drive\n",
        "drive.mount('/content/drive')"
      ],
      "execution_count": 5,
      "outputs": [
        {
          "output_type": "stream",
          "text": [
            "Mounted at /content/drive\n"
          ],
          "name": "stdout"
        }
      ]
    },
    {
      "cell_type": "code",
      "metadata": {
        "id": "-mqd2duJ3_Uh"
      },
      "source": [
        "file_path1=\"/content/drive/MyDrive/Play Store App Review Analysis/Play Store Data.csv\""
      ],
      "execution_count": 6,
      "outputs": []
    },
    {
      "cell_type": "code",
      "metadata": {
        "id": "UB1dXyp64H4R"
      },
      "source": [
        "file_path2=\"/content/drive/MyDrive/Play Store App Review Analysis/User Reviews.csv\""
      ],
      "execution_count": 7,
      "outputs": []
    },
    {
      "cell_type": "code",
      "metadata": {
        "id": "p-_tJP2c4Npc"
      },
      "source": [
        "#creating dataframe\n",
        "plstr_df=pd.read_csv(file_path1)\n",
        "usr_df=pd.read_csv(file_path2)"
      ],
      "execution_count": 8,
      "outputs": []
    },
    {
      "cell_type": "markdown",
      "metadata": {
        "id": "uNLw55cg4cLk"
      },
      "source": [
        "# *Let's analyse the data of Play Store App review *"
      ]
    },
    {
      "cell_type": "code",
      "metadata": {
        "colab": {
          "base_uri": "https://localhost:8080/"
        },
        "id": "DoLhfILR4gBV",
        "outputId": "020dda5b-df66-4471-e15c-a273283590d8"
      },
      "source": [
        "#Get the shape of data in rows and columns\n",
        "plstr_df.shape"
      ],
      "execution_count": 9,
      "outputs": [
        {
          "output_type": "execute_result",
          "data": {
            "text/plain": [
              "(10841, 13)"
            ]
          },
          "metadata": {},
          "execution_count": 9
        }
      ]
    },
    {
      "cell_type": "code",
      "metadata": {
        "colab": {
          "base_uri": "https://localhost:8080/",
          "height": 285
        },
        "id": "tN_lv9pG4kSf",
        "outputId": "8118b9d0-71f9-4c45-edba-546d6e13c8f6"
      },
      "source": [
        "#print first five rows of play store apps data\n",
        "plstr_df.head()"
      ],
      "execution_count": 10,
      "outputs": [
        {
          "output_type": "execute_result",
          "data": {
            "text/html": [
              "<div>\n",
              "<style scoped>\n",
              "    .dataframe tbody tr th:only-of-type {\n",
              "        vertical-align: middle;\n",
              "    }\n",
              "\n",
              "    .dataframe tbody tr th {\n",
              "        vertical-align: top;\n",
              "    }\n",
              "\n",
              "    .dataframe thead th {\n",
              "        text-align: right;\n",
              "    }\n",
              "</style>\n",
              "<table border=\"1\" class=\"dataframe\">\n",
              "  <thead>\n",
              "    <tr style=\"text-align: right;\">\n",
              "      <th></th>\n",
              "      <th>App</th>\n",
              "      <th>Category</th>\n",
              "      <th>Rating</th>\n",
              "      <th>Reviews</th>\n",
              "      <th>Size</th>\n",
              "      <th>Installs</th>\n",
              "      <th>Type</th>\n",
              "      <th>Price</th>\n",
              "      <th>Content Rating</th>\n",
              "      <th>Genres</th>\n",
              "      <th>Last Updated</th>\n",
              "      <th>Current Ver</th>\n",
              "      <th>Android Ver</th>\n",
              "    </tr>\n",
              "  </thead>\n",
              "  <tbody>\n",
              "    <tr>\n",
              "      <th>0</th>\n",
              "      <td>Photo Editor &amp; Candy Camera &amp; Grid &amp; ScrapBook</td>\n",
              "      <td>ART_AND_DESIGN</td>\n",
              "      <td>4.1</td>\n",
              "      <td>159</td>\n",
              "      <td>19M</td>\n",
              "      <td>10,000+</td>\n",
              "      <td>Free</td>\n",
              "      <td>0</td>\n",
              "      <td>Everyone</td>\n",
              "      <td>Art &amp; Design</td>\n",
              "      <td>January 7, 2018</td>\n",
              "      <td>1.0.0</td>\n",
              "      <td>4.0.3 and up</td>\n",
              "    </tr>\n",
              "    <tr>\n",
              "      <th>1</th>\n",
              "      <td>Coloring book moana</td>\n",
              "      <td>ART_AND_DESIGN</td>\n",
              "      <td>3.9</td>\n",
              "      <td>967</td>\n",
              "      <td>14M</td>\n",
              "      <td>500,000+</td>\n",
              "      <td>Free</td>\n",
              "      <td>0</td>\n",
              "      <td>Everyone</td>\n",
              "      <td>Art &amp; Design;Pretend Play</td>\n",
              "      <td>January 15, 2018</td>\n",
              "      <td>2.0.0</td>\n",
              "      <td>4.0.3 and up</td>\n",
              "    </tr>\n",
              "    <tr>\n",
              "      <th>2</th>\n",
              "      <td>U Launcher Lite – FREE Live Cool Themes, Hide ...</td>\n",
              "      <td>ART_AND_DESIGN</td>\n",
              "      <td>4.7</td>\n",
              "      <td>87510</td>\n",
              "      <td>8.7M</td>\n",
              "      <td>5,000,000+</td>\n",
              "      <td>Free</td>\n",
              "      <td>0</td>\n",
              "      <td>Everyone</td>\n",
              "      <td>Art &amp; Design</td>\n",
              "      <td>August 1, 2018</td>\n",
              "      <td>1.2.4</td>\n",
              "      <td>4.0.3 and up</td>\n",
              "    </tr>\n",
              "    <tr>\n",
              "      <th>3</th>\n",
              "      <td>Sketch - Draw &amp; Paint</td>\n",
              "      <td>ART_AND_DESIGN</td>\n",
              "      <td>4.5</td>\n",
              "      <td>215644</td>\n",
              "      <td>25M</td>\n",
              "      <td>50,000,000+</td>\n",
              "      <td>Free</td>\n",
              "      <td>0</td>\n",
              "      <td>Teen</td>\n",
              "      <td>Art &amp; Design</td>\n",
              "      <td>June 8, 2018</td>\n",
              "      <td>Varies with device</td>\n",
              "      <td>4.2 and up</td>\n",
              "    </tr>\n",
              "    <tr>\n",
              "      <th>4</th>\n",
              "      <td>Pixel Draw - Number Art Coloring Book</td>\n",
              "      <td>ART_AND_DESIGN</td>\n",
              "      <td>4.3</td>\n",
              "      <td>967</td>\n",
              "      <td>2.8M</td>\n",
              "      <td>100,000+</td>\n",
              "      <td>Free</td>\n",
              "      <td>0</td>\n",
              "      <td>Everyone</td>\n",
              "      <td>Art &amp; Design;Creativity</td>\n",
              "      <td>June 20, 2018</td>\n",
              "      <td>1.1</td>\n",
              "      <td>4.4 and up</td>\n",
              "    </tr>\n",
              "  </tbody>\n",
              "</table>\n",
              "</div>"
            ],
            "text/plain": [
              "                                                 App  ...   Android Ver\n",
              "0     Photo Editor & Candy Camera & Grid & ScrapBook  ...  4.0.3 and up\n",
              "1                                Coloring book moana  ...  4.0.3 and up\n",
              "2  U Launcher Lite – FREE Live Cool Themes, Hide ...  ...  4.0.3 and up\n",
              "3                              Sketch - Draw & Paint  ...    4.2 and up\n",
              "4              Pixel Draw - Number Art Coloring Book  ...    4.4 and up\n",
              "\n",
              "[5 rows x 13 columns]"
            ]
          },
          "metadata": {},
          "execution_count": 10
        }
      ]
    },
    {
      "cell_type": "code",
      "metadata": {
        "colab": {
          "base_uri": "https://localhost:8080/",
          "height": 285
        },
        "id": "hhNAx-MA4ozj",
        "outputId": "2ca65dc1-3098-4edf-f744-4f262d1af246"
      },
      "source": [
        "#print the last five rows of play store apps data\n",
        "plstr_df.tail()"
      ],
      "execution_count": 11,
      "outputs": [
        {
          "output_type": "execute_result",
          "data": {
            "text/html": [
              "<div>\n",
              "<style scoped>\n",
              "    .dataframe tbody tr th:only-of-type {\n",
              "        vertical-align: middle;\n",
              "    }\n",
              "\n",
              "    .dataframe tbody tr th {\n",
              "        vertical-align: top;\n",
              "    }\n",
              "\n",
              "    .dataframe thead th {\n",
              "        text-align: right;\n",
              "    }\n",
              "</style>\n",
              "<table border=\"1\" class=\"dataframe\">\n",
              "  <thead>\n",
              "    <tr style=\"text-align: right;\">\n",
              "      <th></th>\n",
              "      <th>App</th>\n",
              "      <th>Category</th>\n",
              "      <th>Rating</th>\n",
              "      <th>Reviews</th>\n",
              "      <th>Size</th>\n",
              "      <th>Installs</th>\n",
              "      <th>Type</th>\n",
              "      <th>Price</th>\n",
              "      <th>Content Rating</th>\n",
              "      <th>Genres</th>\n",
              "      <th>Last Updated</th>\n",
              "      <th>Current Ver</th>\n",
              "      <th>Android Ver</th>\n",
              "    </tr>\n",
              "  </thead>\n",
              "  <tbody>\n",
              "    <tr>\n",
              "      <th>10836</th>\n",
              "      <td>Sya9a Maroc - FR</td>\n",
              "      <td>FAMILY</td>\n",
              "      <td>4.5</td>\n",
              "      <td>38</td>\n",
              "      <td>53M</td>\n",
              "      <td>5,000+</td>\n",
              "      <td>Free</td>\n",
              "      <td>0</td>\n",
              "      <td>Everyone</td>\n",
              "      <td>Education</td>\n",
              "      <td>July 25, 2017</td>\n",
              "      <td>1.48</td>\n",
              "      <td>4.1 and up</td>\n",
              "    </tr>\n",
              "    <tr>\n",
              "      <th>10837</th>\n",
              "      <td>Fr. Mike Schmitz Audio Teachings</td>\n",
              "      <td>FAMILY</td>\n",
              "      <td>5.0</td>\n",
              "      <td>4</td>\n",
              "      <td>3.6M</td>\n",
              "      <td>100+</td>\n",
              "      <td>Free</td>\n",
              "      <td>0</td>\n",
              "      <td>Everyone</td>\n",
              "      <td>Education</td>\n",
              "      <td>July 6, 2018</td>\n",
              "      <td>1.0</td>\n",
              "      <td>4.1 and up</td>\n",
              "    </tr>\n",
              "    <tr>\n",
              "      <th>10838</th>\n",
              "      <td>Parkinson Exercices FR</td>\n",
              "      <td>MEDICAL</td>\n",
              "      <td>NaN</td>\n",
              "      <td>3</td>\n",
              "      <td>9.5M</td>\n",
              "      <td>1,000+</td>\n",
              "      <td>Free</td>\n",
              "      <td>0</td>\n",
              "      <td>Everyone</td>\n",
              "      <td>Medical</td>\n",
              "      <td>January 20, 2017</td>\n",
              "      <td>1.0</td>\n",
              "      <td>2.2 and up</td>\n",
              "    </tr>\n",
              "    <tr>\n",
              "      <th>10839</th>\n",
              "      <td>The SCP Foundation DB fr nn5n</td>\n",
              "      <td>BOOKS_AND_REFERENCE</td>\n",
              "      <td>4.5</td>\n",
              "      <td>114</td>\n",
              "      <td>Varies with device</td>\n",
              "      <td>1,000+</td>\n",
              "      <td>Free</td>\n",
              "      <td>0</td>\n",
              "      <td>Mature 17+</td>\n",
              "      <td>Books &amp; Reference</td>\n",
              "      <td>January 19, 2015</td>\n",
              "      <td>Varies with device</td>\n",
              "      <td>Varies with device</td>\n",
              "    </tr>\n",
              "    <tr>\n",
              "      <th>10840</th>\n",
              "      <td>iHoroscope - 2018 Daily Horoscope &amp; Astrology</td>\n",
              "      <td>LIFESTYLE</td>\n",
              "      <td>4.5</td>\n",
              "      <td>398307</td>\n",
              "      <td>19M</td>\n",
              "      <td>10,000,000+</td>\n",
              "      <td>Free</td>\n",
              "      <td>0</td>\n",
              "      <td>Everyone</td>\n",
              "      <td>Lifestyle</td>\n",
              "      <td>July 25, 2018</td>\n",
              "      <td>Varies with device</td>\n",
              "      <td>Varies with device</td>\n",
              "    </tr>\n",
              "  </tbody>\n",
              "</table>\n",
              "</div>"
            ],
            "text/plain": [
              "                                                 App  ...         Android Ver\n",
              "10836                               Sya9a Maroc - FR  ...          4.1 and up\n",
              "10837               Fr. Mike Schmitz Audio Teachings  ...          4.1 and up\n",
              "10838                         Parkinson Exercices FR  ...          2.2 and up\n",
              "10839                  The SCP Foundation DB fr nn5n  ...  Varies with device\n",
              "10840  iHoroscope - 2018 Daily Horoscope & Astrology  ...  Varies with device\n",
              "\n",
              "[5 rows x 13 columns]"
            ]
          },
          "metadata": {},
          "execution_count": 11
        }
      ]
    },
    {
      "cell_type": "code",
      "metadata": {
        "colab": {
          "base_uri": "https://localhost:8080/"
        },
        "id": "krlTlzCx4tsL",
        "outputId": "9c84f67d-2ed7-4794-dfee-ad620e112571"
      },
      "source": [
        "#print all the information of Play Store apps data\n",
        "plstr_df.info()"
      ],
      "execution_count": 12,
      "outputs": [
        {
          "output_type": "stream",
          "text": [
            "<class 'pandas.core.frame.DataFrame'>\n",
            "RangeIndex: 10841 entries, 0 to 10840\n",
            "Data columns (total 13 columns):\n",
            " #   Column          Non-Null Count  Dtype  \n",
            "---  ------          --------------  -----  \n",
            " 0   App             10841 non-null  object \n",
            " 1   Category        10841 non-null  object \n",
            " 2   Rating          9367 non-null   float64\n",
            " 3   Reviews         10841 non-null  object \n",
            " 4   Size            10841 non-null  object \n",
            " 5   Installs        10841 non-null  object \n",
            " 6   Type            10840 non-null  object \n",
            " 7   Price           10841 non-null  object \n",
            " 8   Content Rating  10840 non-null  object \n",
            " 9   Genres          10841 non-null  object \n",
            " 10  Last Updated    10841 non-null  object \n",
            " 11  Current Ver     10833 non-null  object \n",
            " 12  Android Ver     10838 non-null  object \n",
            "dtypes: float64(1), object(12)\n",
            "memory usage: 1.1+ MB\n"
          ],
          "name": "stdout"
        }
      ]
    },
    {
      "cell_type": "code",
      "metadata": {
        "colab": {
          "base_uri": "https://localhost:8080/",
          "height": 294
        },
        "id": "FyfI2fM14ybe",
        "outputId": "ac396397-b8b0-41ba-deb5-02bbdbb18fb1"
      },
      "source": [
        "#print all the descriptive values of data\n",
        "plstr_df.describe()"
      ],
      "execution_count": 13,
      "outputs": [
        {
          "output_type": "execute_result",
          "data": {
            "text/html": [
              "<div>\n",
              "<style scoped>\n",
              "    .dataframe tbody tr th:only-of-type {\n",
              "        vertical-align: middle;\n",
              "    }\n",
              "\n",
              "    .dataframe tbody tr th {\n",
              "        vertical-align: top;\n",
              "    }\n",
              "\n",
              "    .dataframe thead th {\n",
              "        text-align: right;\n",
              "    }\n",
              "</style>\n",
              "<table border=\"1\" class=\"dataframe\">\n",
              "  <thead>\n",
              "    <tr style=\"text-align: right;\">\n",
              "      <th></th>\n",
              "      <th>Rating</th>\n",
              "    </tr>\n",
              "  </thead>\n",
              "  <tbody>\n",
              "    <tr>\n",
              "      <th>count</th>\n",
              "      <td>9367.000000</td>\n",
              "    </tr>\n",
              "    <tr>\n",
              "      <th>mean</th>\n",
              "      <td>4.193338</td>\n",
              "    </tr>\n",
              "    <tr>\n",
              "      <th>std</th>\n",
              "      <td>0.537431</td>\n",
              "    </tr>\n",
              "    <tr>\n",
              "      <th>min</th>\n",
              "      <td>1.000000</td>\n",
              "    </tr>\n",
              "    <tr>\n",
              "      <th>25%</th>\n",
              "      <td>4.000000</td>\n",
              "    </tr>\n",
              "    <tr>\n",
              "      <th>50%</th>\n",
              "      <td>4.300000</td>\n",
              "    </tr>\n",
              "    <tr>\n",
              "      <th>75%</th>\n",
              "      <td>4.500000</td>\n",
              "    </tr>\n",
              "    <tr>\n",
              "      <th>max</th>\n",
              "      <td>19.000000</td>\n",
              "    </tr>\n",
              "  </tbody>\n",
              "</table>\n",
              "</div>"
            ],
            "text/plain": [
              "            Rating\n",
              "count  9367.000000\n",
              "mean      4.193338\n",
              "std       0.537431\n",
              "min       1.000000\n",
              "25%       4.000000\n",
              "50%       4.300000\n",
              "75%       4.500000\n",
              "max      19.000000"
            ]
          },
          "metadata": {},
          "execution_count": 13
        }
      ]
    },
    {
      "cell_type": "code",
      "metadata": {
        "colab": {
          "base_uri": "https://localhost:8080/"
        },
        "id": "66uvoq7A47Bc",
        "outputId": "be32124f-dd77-44f5-fd17-6516492c90f0"
      },
      "source": [
        "#print all the columns in our data\n",
        "plstr_df.columns"
      ],
      "execution_count": 14,
      "outputs": [
        {
          "output_type": "execute_result",
          "data": {
            "text/plain": [
              "Index(['App', 'Category', 'Rating', 'Reviews', 'Size', 'Installs', 'Type',\n",
              "       'Price', 'Content Rating', 'Genres', 'Last Updated', 'Current Ver',\n",
              "       'Android Ver'],\n",
              "      dtype='object')"
            ]
          },
          "metadata": {},
          "execution_count": 14
        }
      ]
    },
    {
      "cell_type": "markdown",
      "metadata": {
        "id": "gtvBX0GH4_zJ"
      },
      "source": [
        "# Data Cleaning of plstr_df"
      ]
    },
    {
      "cell_type": "code",
      "metadata": {
        "colab": {
          "base_uri": "https://localhost:8080/"
        },
        "id": "-M6xBlWX5Cgu",
        "outputId": "53b78c5b-6013-4141-e135-486c3a9efbe1"
      },
      "source": [
        "plstr_df['Rating'].unique()"
      ],
      "execution_count": 15,
      "outputs": [
        {
          "output_type": "execute_result",
          "data": {
            "text/plain": [
              "array([ 4.1,  3.9,  4.7,  4.5,  4.3,  4.4,  3.8,  4.2,  4.6,  3.2,  4. ,\n",
              "        nan,  4.8,  4.9,  3.6,  3.7,  3.3,  3.4,  3.5,  3.1,  5. ,  2.6,\n",
              "        3. ,  1.9,  2.5,  2.8,  2.7,  1. ,  2.9,  2.3,  2.2,  1.7,  2. ,\n",
              "        1.8,  2.4,  1.6,  2.1,  1.4,  1.5,  1.2, 19. ])"
            ]
          },
          "metadata": {},
          "execution_count": 15
        }
      ]
    },
    {
      "cell_type": "code",
      "metadata": {
        "colab": {
          "base_uri": "https://localhost:8080/",
          "height": 294
        },
        "id": "mx6rrAK_5G0r",
        "outputId": "b96f492c-50d5-4ce5-aec2-7f6908b65440"
      },
      "source": [
        "plstr_df.hist('Rating');\n",
        "plt.xlabel('Rating------->')\n",
        "plt.ylabel('Frequency------>')\n",
        "plt.title('Histogram of Rating');"
      ],
      "execution_count": 16,
      "outputs": [
        {
          "output_type": "display_data",
          "data": {
            "image/png": "[encoded data removed]",
            "text/plain": [
              "<Figure size 432x288 with 1 Axes>"
            ]
          },
          "metadata": {
            "needs_background": "light"
          }
        }
      ]
    },
    {
      "cell_type": "code",
      "metadata": {
        "colab": {
          "base_uri": "https://localhost:8080/",
          "height": 264
        },
        "id": "MYJ4hOvl5OeP",
        "outputId": "b8e7ee77-7105-43c4-cb00-b9c115826cc9"
      },
      "source": [
        "plstr_df.boxplot('Rating');"
      ],
      "execution_count": 17,
      "outputs": [
        {
          "output_type": "display_data",
          "data": {
            "image/png": "[encoded data removed]",
            "text/plain": [
              "<Figure size 432x288 with 1 Axes>"
            ]
          },
          "metadata": {
            "needs_background": "light"
          }
        }
      ]
    },
    {
      "cell_type": "code",
      "metadata": {
        "colab": {
          "base_uri": "https://localhost:8080/",
          "height": 78
        },
        "id": "tS1iykdr5S0F",
        "outputId": "e0fbdbcf-edc1-4b5a-ac72-d74ed193bd01"
      },
      "source": [
        "#checking outliers\n",
        "plstr_df[plstr_df.Rating>5]"
      ],
      "execution_count": 18,
      "outputs": [
        {
          "output_type": "execute_result",
          "data": {
            "text/html": [
              "<div>\n",
              "<style scoped>\n",
              "    .dataframe tbody tr th:only-of-type {\n",
              "        vertical-align: middle;\n",
              "    }\n",
              "\n",
              "    .dataframe tbody tr th {\n",
              "        vertical-align: top;\n",
              "    }\n",
              "\n",
              "    .dataframe thead th {\n",
              "        text-align: right;\n",
              "    }\n",
              "</style>\n",
              "<table border=\"1\" class=\"dataframe\">\n",
              "  <thead>\n",
              "    <tr style=\"text-align: right;\">\n",
              "      <th></th>\n",
              "      <th>App</th>\n",
              "      <th>Category</th>\n",
              "      <th>Rating</th>\n",
              "      <th>Reviews</th>\n",
              "      <th>Size</th>\n",
              "      <th>Installs</th>\n",
              "      <th>Type</th>\n",
              "      <th>Price</th>\n",
              "      <th>Content Rating</th>\n",
              "      <th>Genres</th>\n",
              "      <th>Last Updated</th>\n",
              "      <th>Current Ver</th>\n",
              "      <th>Android Ver</th>\n",
              "    </tr>\n",
              "  </thead>\n",
              "  <tbody>\n",
              "    <tr>\n",
              "      <th>10472</th>\n",
              "      <td>Life Made WI-Fi Touchscreen Photo Frame</td>\n",
              "      <td>1.9</td>\n",
              "      <td>19.0</td>\n",
              "      <td>3.0M</td>\n",
              "      <td>1,000+</td>\n",
              "      <td>Free</td>\n",
              "      <td>0</td>\n",
              "      <td>Everyone</td>\n",
              "      <td>NaN</td>\n",
              "      <td>February 11, 2018</td>\n",
              "      <td>1.0.19</td>\n",
              "      <td>4.0 and up</td>\n",
              "      <td>NaN</td>\n",
              "    </tr>\n",
              "  </tbody>\n",
              "</table>\n",
              "</div>"
            ],
            "text/plain": [
              "                                           App Category  ...  Current Ver Android Ver\n",
              "10472  Life Made WI-Fi Touchscreen Photo Frame      1.9  ...   4.0 and up         NaN\n",
              "\n",
              "[1 rows x 13 columns]"
            ]
          },
          "metadata": {},
          "execution_count": 18
        }
      ]
    },
    {
      "cell_type": "code",
      "metadata": {
        "colab": {
          "base_uri": "https://localhost:8080/"
        },
        "id": "WiS8ajPC5XpF",
        "outputId": "e27ee955-4bcd-4304-fd8b-01ade957f241"
      },
      "source": [
        "#fixing mixmatched values\n",
        "plstr_df.loc[10472] = plstr_df.loc[10472].shift()\n",
        "plstr_df['App'].loc[10472] = plstr_df['Category'].loc[10472]\n",
        "plstr_df['Category'].loc[10472] = np.nan\n",
        "plstr_df.loc[10472]"
      ],
      "execution_count": 19,
      "outputs": [
        {
          "output_type": "execute_result",
          "data": {
            "text/plain": [
              "App               Life Made WI-Fi Touchscreen Photo Frame\n",
              "Category                                              NaN\n",
              "Rating                                                1.9\n",
              "Reviews                                                19\n",
              "Size                                                 3.0M\n",
              "Installs                                           1,000+\n",
              "Type                                                 Free\n",
              "Price                                                   0\n",
              "Content Rating                                   Everyone\n",
              "Genres                                                NaN\n",
              "Last Updated                            February 11, 2018\n",
              "Current Ver                                        1.0.19\n",
              "Android Ver                                    4.0 and up\n",
              "Name: 10472, dtype: object"
            ]
          },
          "metadata": {},
          "execution_count": 19
        }
      ]
    },
    {
      "cell_type": "code",
      "metadata": {
        "id": "j1BRGMYQ5bQN"
      },
      "source": [
        "#checking the null values\n",
        "plstr_df.isnull().sum()\n",
        "plstr_df.dropna(inplace=True)"
      ],
      "execution_count": 20,
      "outputs": []
    },
    {
      "cell_type": "code",
      "metadata": {
        "colab": {
          "base_uri": "https://localhost:8080/"
        },
        "id": "WqaOdodz5cPB",
        "outputId": "b86b3936-5a50-4172-b47f-0678057c24e6"
      },
      "source": [
        "plstr_df.drop_duplicates(inplace=True)\n",
        "plstr_df.shape"
      ],
      "execution_count": 21,
      "outputs": [
        {
          "output_type": "execute_result",
          "data": {
            "text/plain": [
              "(8886, 13)"
            ]
          },
          "metadata": {},
          "execution_count": 21
        }
      ]
    },
    {
      "cell_type": "code",
      "metadata": {
        "colab": {
          "base_uri": "https://localhost:8080/"
        },
        "id": "krmXbv5P5f_V",
        "outputId": "122b68e6-e34b-4ea3-a16b-770bdb05823c"
      },
      "source": [
        "plstr_df.isnull().sum()"
      ],
      "execution_count": 22,
      "outputs": [
        {
          "output_type": "execute_result",
          "data": {
            "text/plain": [
              "App               0\n",
              "Category          0\n",
              "Rating            0\n",
              "Reviews           0\n",
              "Size              0\n",
              "Installs          0\n",
              "Type              0\n",
              "Price             0\n",
              "Content Rating    0\n",
              "Genres            0\n",
              "Last Updated      0\n",
              "Current Ver       0\n",
              "Android Ver       0\n",
              "dtype: int64"
            ]
          },
          "metadata": {},
          "execution_count": 22
        }
      ]
    },
    {
      "cell_type": "code",
      "metadata": {
        "colab": {
          "base_uri": "https://localhost:8080/"
        },
        "id": "PDbdir5S5kE7",
        "outputId": "03a6e5f2-8bb2-455a-9f1e-af9aea7a4a51"
      },
      "source": [
        "plstr_df.info()"
      ],
      "execution_count": 23,
      "outputs": [
        {
          "output_type": "stream",
          "text": [
            "<class 'pandas.core.frame.DataFrame'>\n",
            "Int64Index: 8886 entries, 0 to 10840\n",
            "Data columns (total 13 columns):\n",
            " #   Column          Non-Null Count  Dtype \n",
            "---  ------          --------------  ----- \n",
            " 0   App             8886 non-null   object\n",
            " 1   Category        8886 non-null   object\n",
            " 2   Rating          8886 non-null   object\n",
            " 3   Reviews         8886 non-null   object\n",
            " 4   Size            8886 non-null   object\n",
            " 5   Installs        8886 non-null   object\n",
            " 6   Type            8886 non-null   object\n",
            " 7   Price           8886 non-null   object\n",
            " 8   Content Rating  8886 non-null   object\n",
            " 9   Genres          8886 non-null   object\n",
            " 10  Last Updated    8886 non-null   object\n",
            " 11  Current Ver     8886 non-null   object\n",
            " 12  Android Ver     8886 non-null   object\n",
            "dtypes: object(13)\n",
            "memory usage: 971.9+ KB\n"
          ],
          "name": "stdout"
        }
      ]
    },
    {
      "cell_type": "code",
      "metadata": {
        "id": "lXGQov3b5pEL"
      },
      "source": [
        "#Here we can see  Reviews, Size, Installs, & price  have object datatype, But it should be int or float datatype, \n",
        "#So let’s convert them to their respective correct type. "
      ],
      "execution_count": 24,
      "outputs": []
    },
    {
      "cell_type": "code",
      "metadata": {
        "colab": {
          "base_uri": "https://localhost:8080/"
        },
        "id": "ud1bUz5bsA2y",
        "outputId": "7ec7a481-3a7c-4fff-d4f3-91a7e3f7c4ea"
      },
      "source": [
        "#Reviews is object type, converting into int type\n",
        "plstr_df['Reviews'] = plstr_df.Reviews.astype('int64')\n",
        "plstr_df['Reviews'].dtype"
      ],
      "execution_count": 25,
      "outputs": [
        {
          "output_type": "execute_result",
          "data": {
            "text/plain": [
              "dtype('int64')"
            ]
          },
          "metadata": {},
          "execution_count": 25
        }
      ]
    },
    {
      "cell_type": "code",
      "metadata": {
        "colab": {
          "base_uri": "https://localhost:8080/"
        },
        "id": "gWqUkCVlsC18",
        "outputId": "1153fba9-e9be-4725-f26b-c6e418854848"
      },
      "source": [
        "#Size is object type, converting into float type\n",
        "plstr_df['Size'] = plstr_df.Size.str.replace(\"M\",\"000\")\n",
        "plstr_df['Size'] = plstr_df.Size.replace(\"Varies with device\",np.nan)\n",
        "plstr_df['Size'] = plstr_df.Size.replace(\"1,000+\",1000)\n",
        "plstr_df['Size'] = plstr_df.Size.str.replace(\"k\",\"\")\n",
        "plstr_df['Size'] =plstr_df['Size'].astype(float)\n",
        "plstr_df['Size'].dtype"
      ],
      "execution_count": 26,
      "outputs": [
        {
          "output_type": "execute_result",
          "data": {
            "text/plain": [
              "dtype('float64')"
            ]
          },
          "metadata": {},
          "execution_count": 26
        }
      ]
    },
    {
      "cell_type": "code",
      "metadata": {
        "colab": {
          "base_uri": "https://localhost:8080/"
        },
        "id": "xc1XCpB2sMoh",
        "outputId": "2a888632-b2f0-4b29-af6b-e644c3d69ccc"
      },
      "source": [
        "#Installs is object type, converting into float type\n",
        "plstr_df['Installs'] = plstr_df['Installs'].apply(lambda x : str(x).replace(\",\",\"\") if \",\" in str(x) else str(x))\n",
        "plstr_df['Installs'] = plstr_df['Installs'].apply(lambda x : str(x).replace(\"+\",\"\") if \"+\" in str(x) else str(x))\n",
        "plstr_df['Installs'] = plstr_df['Installs'].apply(lambda x : float(x))\n",
        "plstr_df['Installs'].dtype"
      ],
      "execution_count": 27,
      "outputs": [
        {
          "output_type": "execute_result",
          "data": {
            "text/plain": [
              "dtype('float64')"
            ]
          },
          "metadata": {},
          "execution_count": 27
        }
      ]
    },
    {
      "cell_type": "code",
      "metadata": {
        "colab": {
          "base_uri": "https://localhost:8080/"
        },
        "id": "mvdiZFVpsYaa",
        "outputId": "b4d0d93b-c3ba-4b97-bd7c-c8dc27051c5a"
      },
      "source": [
        "#Price is object type, converting into float type\n",
        "plstr_df['Price'] = plstr_df['Price'].apply(lambda x : str(x).replace('$','')if '$' in str(x) else str(x))\n",
        "plstr_df['Price'] = plstr_df['Price'].apply(lambda x : float(x))\n",
        "plstr_df['Price'].dtype"
      ],
      "execution_count": 28,
      "outputs": [
        {
          "output_type": "execute_result",
          "data": {
            "text/plain": [
              "dtype('float64')"
            ]
          },
          "metadata": {},
          "execution_count": 28
        }
      ]
    },
    {
      "cell_type": "code",
      "metadata": {
        "colab": {
          "base_uri": "https://localhost:8080/"
        },
        "id": "-yJ1A87tsZet",
        "outputId": "e3185bbb-032a-4aa2-c58d-374ed41159eb"
      },
      "source": [
        "#last update is object type,converting into datetype\n",
        "plstr_df['Last Updated'] = pd.to_datetime(plstr_df['Last Updated'])\n",
        "plstr_df['Last Updated']"
      ],
      "execution_count": 29,
      "outputs": [
        {
          "output_type": "execute_result",
          "data": {
            "text/plain": [
              "0       2018-01-07\n",
              "1       2018-01-15\n",
              "2       2018-08-01\n",
              "3       2018-06-08\n",
              "4       2018-06-20\n",
              "           ...    \n",
              "10834   2017-06-18\n",
              "10836   2017-07-25\n",
              "10837   2018-07-06\n",
              "10839   2015-01-19\n",
              "10840   2018-07-25\n",
              "Name: Last Updated, Length: 8886, dtype: datetime64[ns]"
            ]
          },
          "metadata": {},
          "execution_count": 29
        }
      ]
    },
    {
      "cell_type": "code",
      "metadata": {
        "colab": {
          "base_uri": "https://localhost:8080/",
          "height": 294
        },
        "id": "WhcbDTxEsd3D",
        "outputId": "e935801c-ffdd-469b-c90d-54c7a7280755"
      },
      "source": [
        "plstr_df.describe()"
      ],
      "execution_count": 30,
      "outputs": [
        {
          "output_type": "execute_result",
          "data": {
            "text/html": [
              "<div>\n",
              "<style scoped>\n",
              "    .dataframe tbody tr th:only-of-type {\n",
              "        vertical-align: middle;\n",
              "    }\n",
              "\n",
              "    .dataframe tbody tr th {\n",
              "        vertical-align: top;\n",
              "    }\n",
              "\n",
              "    .dataframe thead th {\n",
              "        text-align: right;\n",
              "    }\n",
              "</style>\n",
              "<table border=\"1\" class=\"dataframe\">\n",
              "  <thead>\n",
              "    <tr style=\"text-align: right;\">\n",
              "      <th></th>\n",
              "      <th>Reviews</th>\n",
              "      <th>Size</th>\n",
              "      <th>Installs</th>\n",
              "      <th>Price</th>\n",
              "    </tr>\n",
              "  </thead>\n",
              "  <tbody>\n",
              "    <tr>\n",
              "      <th>count</th>\n",
              "      <td>8.886000e+03</td>\n",
              "      <td>7418.000000</td>\n",
              "      <td>8.886000e+03</td>\n",
              "      <td>8886.000000</td>\n",
              "    </tr>\n",
              "    <tr>\n",
              "      <th>mean</th>\n",
              "      <td>4.730928e+05</td>\n",
              "      <td>20863.873578</td>\n",
              "      <td>1.650061e+07</td>\n",
              "      <td>0.963526</td>\n",
              "    </tr>\n",
              "    <tr>\n",
              "      <th>std</th>\n",
              "      <td>2.906007e+06</td>\n",
              "      <td>24909.471071</td>\n",
              "      <td>8.640413e+07</td>\n",
              "      <td>16.194792</td>\n",
              "    </tr>\n",
              "    <tr>\n",
              "      <th>min</th>\n",
              "      <td>1.000000e+00</td>\n",
              "      <td>1.000000</td>\n",
              "      <td>1.000000e+00</td>\n",
              "      <td>0.000000</td>\n",
              "    </tr>\n",
              "    <tr>\n",
              "      <th>25%</th>\n",
              "      <td>1.640000e+02</td>\n",
              "      <td>5.900000</td>\n",
              "      <td>1.000000e+04</td>\n",
              "      <td>0.000000</td>\n",
              "    </tr>\n",
              "    <tr>\n",
              "      <th>50%</th>\n",
              "      <td>4.723000e+03</td>\n",
              "      <td>14000.000000</td>\n",
              "      <td>5.000000e+05</td>\n",
              "      <td>0.000000</td>\n",
              "    </tr>\n",
              "    <tr>\n",
              "      <th>75%</th>\n",
              "      <td>7.131325e+04</td>\n",
              "      <td>33000.000000</td>\n",
              "      <td>5.000000e+06</td>\n",
              "      <td>0.000000</td>\n",
              "    </tr>\n",
              "    <tr>\n",
              "      <th>max</th>\n",
              "      <td>7.815831e+07</td>\n",
              "      <td>100000.000000</td>\n",
              "      <td>1.000000e+09</td>\n",
              "      <td>400.000000</td>\n",
              "    </tr>\n",
              "  </tbody>\n",
              "</table>\n",
              "</div>"
            ],
            "text/plain": [
              "            Reviews           Size      Installs        Price\n",
              "count  8.886000e+03    7418.000000  8.886000e+03  8886.000000\n",
              "mean   4.730928e+05   20863.873578  1.650061e+07     0.963526\n",
              "std    2.906007e+06   24909.471071  8.640413e+07    16.194792\n",
              "min    1.000000e+00       1.000000  1.000000e+00     0.000000\n",
              "25%    1.640000e+02       5.900000  1.000000e+04     0.000000\n",
              "50%    4.723000e+03   14000.000000  5.000000e+05     0.000000\n",
              "75%    7.131325e+04   33000.000000  5.000000e+06     0.000000\n",
              "max    7.815831e+07  100000.000000  1.000000e+09   400.000000"
            ]
          },
          "metadata": {},
          "execution_count": 30
        }
      ]
    },
    {
      "cell_type": "markdown",
      "metadata": {
        "id": "l0H1T2n1srG7"
      },
      "source": [
        "# let's analyze the data of user reviews :"
      ]
    },
    {
      "cell_type": "code",
      "metadata": {
        "colab": {
          "base_uri": "https://localhost:8080/"
        },
        "id": "mxUk-R-ksilj",
        "outputId": "9b590244-659a-4fff-bd63-5325ad293847"
      },
      "source": [
        "#Get the shape of user reviews data\n",
        "usr_df.shape"
      ],
      "execution_count": 31,
      "outputs": [
        {
          "output_type": "execute_result",
          "data": {
            "text/plain": [
              "(64295, 5)"
            ]
          },
          "metadata": {},
          "execution_count": 31
        }
      ]
    },
    {
      "cell_type": "code",
      "metadata": {
        "colab": {
          "base_uri": "https://localhost:8080/",
          "height": 202
        },
        "id": "pXCFcqlFszbU",
        "outputId": "c341ffb9-3b03-46a7-c603-095a3ab78d9f"
      },
      "source": [
        "#Get the first 5 rows of user reviews data\n",
        "usr_df.head()"
      ],
      "execution_count": 32,
      "outputs": [
        {
          "output_type": "execute_result",
          "data": {
            "text/html": [
              "<div>\n",
              "<style scoped>\n",
              "    .dataframe tbody tr th:only-of-type {\n",
              "        vertical-align: middle;\n",
              "    }\n",
              "\n",
              "    .dataframe tbody tr th {\n",
              "        vertical-align: top;\n",
              "    }\n",
              "\n",
              "    .dataframe thead th {\n",
              "        text-align: right;\n",
              "    }\n",
              "</style>\n",
              "<table border=\"1\" class=\"dataframe\">\n",
              "  <thead>\n",
              "    <tr style=\"text-align: right;\">\n",
              "      <th></th>\n",
              "      <th>App</th>\n",
              "      <th>Translated_Review</th>\n",
              "      <th>Sentiment</th>\n",
              "      <th>Sentiment_Polarity</th>\n",
              "      <th>Sentiment_Subjectivity</th>\n",
              "    </tr>\n",
              "  </thead>\n",
              "  <tbody>\n",
              "    <tr>\n",
              "      <th>0</th>\n",
              "      <td>10 Best Foods for You</td>\n",
              "      <td>I like eat delicious food. That's I'm cooking ...</td>\n",
              "      <td>Positive</td>\n",
              "      <td>1.00</td>\n",
              "      <td>0.533333</td>\n",
              "    </tr>\n",
              "    <tr>\n",
              "      <th>1</th>\n",
              "      <td>10 Best Foods for You</td>\n",
              "      <td>This help eating healthy exercise regular basis</td>\n",
              "      <td>Positive</td>\n",
              "      <td>0.25</td>\n",
              "      <td>0.288462</td>\n",
              "    </tr>\n",
              "    <tr>\n",
              "      <th>2</th>\n",
              "      <td>10 Best Foods for You</td>\n",
              "      <td>NaN</td>\n",
              "      <td>NaN</td>\n",
              "      <td>NaN</td>\n",
              "      <td>NaN</td>\n",
              "    </tr>\n",
              "    <tr>\n",
              "      <th>3</th>\n",
              "      <td>10 Best Foods for You</td>\n",
              "      <td>Works great especially going grocery store</td>\n",
              "      <td>Positive</td>\n",
              "      <td>0.40</td>\n",
              "      <td>0.875000</td>\n",
              "    </tr>\n",
              "    <tr>\n",
              "      <th>4</th>\n",
              "      <td>10 Best Foods for You</td>\n",
              "      <td>Best idea us</td>\n",
              "      <td>Positive</td>\n",
              "      <td>1.00</td>\n",
              "      <td>0.300000</td>\n",
              "    </tr>\n",
              "  </tbody>\n",
              "</table>\n",
              "</div>"
            ],
            "text/plain": [
              "                     App  ... Sentiment_Subjectivity\n",
              "0  10 Best Foods for You  ...               0.533333\n",
              "1  10 Best Foods for You  ...               0.288462\n",
              "2  10 Best Foods for You  ...                    NaN\n",
              "3  10 Best Foods for You  ...               0.875000\n",
              "4  10 Best Foods for You  ...               0.300000\n",
              "\n",
              "[5 rows x 5 columns]"
            ]
          },
          "metadata": {},
          "execution_count": 32
        }
      ]
    },
    {
      "cell_type": "code",
      "metadata": {
        "colab": {
          "base_uri": "https://localhost:8080/",
          "height": 202
        },
        "id": "h6qa9u4Vs3Ml",
        "outputId": "487a71e8-df11-4632-b6b0-be950e3ea8c7"
      },
      "source": [
        "#Get the last five rows of user reviews data\n",
        "usr_df.tail()"
      ],
      "execution_count": 33,
      "outputs": [
        {
          "output_type": "execute_result",
          "data": {
            "text/html": [
              "<div>\n",
              "<style scoped>\n",
              "    .dataframe tbody tr th:only-of-type {\n",
              "        vertical-align: middle;\n",
              "    }\n",
              "\n",
              "    .dataframe tbody tr th {\n",
              "        vertical-align: top;\n",
              "    }\n",
              "\n",
              "    .dataframe thead th {\n",
              "        text-align: right;\n",
              "    }\n",
              "</style>\n",
              "<table border=\"1\" class=\"dataframe\">\n",
              "  <thead>\n",
              "    <tr style=\"text-align: right;\">\n",
              "      <th></th>\n",
              "      <th>App</th>\n",
              "      <th>Translated_Review</th>\n",
              "      <th>Sentiment</th>\n",
              "      <th>Sentiment_Polarity</th>\n",
              "      <th>Sentiment_Subjectivity</th>\n",
              "    </tr>\n",
              "  </thead>\n",
              "  <tbody>\n",
              "    <tr>\n",
              "      <th>64290</th>\n",
              "      <td>Houzz Interior Design Ideas</td>\n",
              "      <td>NaN</td>\n",
              "      <td>NaN</td>\n",
              "      <td>NaN</td>\n",
              "      <td>NaN</td>\n",
              "    </tr>\n",
              "    <tr>\n",
              "      <th>64291</th>\n",
              "      <td>Houzz Interior Design Ideas</td>\n",
              "      <td>NaN</td>\n",
              "      <td>NaN</td>\n",
              "      <td>NaN</td>\n",
              "      <td>NaN</td>\n",
              "    </tr>\n",
              "    <tr>\n",
              "      <th>64292</th>\n",
              "      <td>Houzz Interior Design Ideas</td>\n",
              "      <td>NaN</td>\n",
              "      <td>NaN</td>\n",
              "      <td>NaN</td>\n",
              "      <td>NaN</td>\n",
              "    </tr>\n",
              "    <tr>\n",
              "      <th>64293</th>\n",
              "      <td>Houzz Interior Design Ideas</td>\n",
              "      <td>NaN</td>\n",
              "      <td>NaN</td>\n",
              "      <td>NaN</td>\n",
              "      <td>NaN</td>\n",
              "    </tr>\n",
              "    <tr>\n",
              "      <th>64294</th>\n",
              "      <td>Houzz Interior Design Ideas</td>\n",
              "      <td>NaN</td>\n",
              "      <td>NaN</td>\n",
              "      <td>NaN</td>\n",
              "      <td>NaN</td>\n",
              "    </tr>\n",
              "  </tbody>\n",
              "</table>\n",
              "</div>"
            ],
            "text/plain": [
              "                               App  ... Sentiment_Subjectivity\n",
              "64290  Houzz Interior Design Ideas  ...                    NaN\n",
              "64291  Houzz Interior Design Ideas  ...                    NaN\n",
              "64292  Houzz Interior Design Ideas  ...                    NaN\n",
              "64293  Houzz Interior Design Ideas  ...                    NaN\n",
              "64294  Houzz Interior Design Ideas  ...                    NaN\n",
              "\n",
              "[5 rows x 5 columns]"
            ]
          },
          "metadata": {},
          "execution_count": 33
        }
      ]
    },
    {
      "cell_type": "code",
      "metadata": {
        "colab": {
          "base_uri": "https://localhost:8080/"
        },
        "id": "cvr_BlBds7Ts",
        "outputId": "d4ae8147-2b3f-413c-f85b-98414303baa0"
      },
      "source": [
        "#Get the all information about user reviews data\n",
        "usr_df.info()"
      ],
      "execution_count": 34,
      "outputs": [
        {
          "output_type": "stream",
          "text": [
            "<class 'pandas.core.frame.DataFrame'>\n",
            "RangeIndex: 64295 entries, 0 to 64294\n",
            "Data columns (total 5 columns):\n",
            " #   Column                  Non-Null Count  Dtype  \n",
            "---  ------                  --------------  -----  \n",
            " 0   App                     64295 non-null  object \n",
            " 1   Translated_Review       37427 non-null  object \n",
            " 2   Sentiment               37432 non-null  object \n",
            " 3   Sentiment_Polarity      37432 non-null  float64\n",
            " 4   Sentiment_Subjectivity  37432 non-null  float64\n",
            "dtypes: float64(2), object(3)\n",
            "memory usage: 2.5+ MB\n"
          ],
          "name": "stdout"
        }
      ]
    },
    {
      "cell_type": "code",
      "metadata": {
        "colab": {
          "base_uri": "https://localhost:8080/"
        },
        "id": "-WdG_l9dtCAN",
        "outputId": "517de65e-4117-4da3-9aaf-7ed0f7507873"
      },
      "source": [
        "#get all the null values in each column \n",
        "usr_df.isnull().sum()"
      ],
      "execution_count": 35,
      "outputs": [
        {
          "output_type": "execute_result",
          "data": {
            "text/plain": [
              "App                           0\n",
              "Translated_Review         26868\n",
              "Sentiment                 26863\n",
              "Sentiment_Polarity        26863\n",
              "Sentiment_Subjectivity    26863\n",
              "dtype: int64"
            ]
          },
          "metadata": {},
          "execution_count": 35
        }
      ]
    },
    {
      "cell_type": "code",
      "metadata": {
        "id": "lVMIsVaMtGXO"
      },
      "source": [
        "usr_df.dropna(inplace=True)\n",
        "usr_df.drop_duplicates(inplace=True)"
      ],
      "execution_count": 36,
      "outputs": []
    },
    {
      "cell_type": "code",
      "metadata": {
        "colab": {
          "base_uri": "https://localhost:8080/"
        },
        "id": "K_5bN9dAtIM-",
        "outputId": "bcf9e4aa-e449-49f8-8dd8-9db15d3a5379"
      },
      "source": [
        "usr_df.isnull().sum()"
      ],
      "execution_count": 37,
      "outputs": [
        {
          "output_type": "execute_result",
          "data": {
            "text/plain": [
              "App                       0\n",
              "Translated_Review         0\n",
              "Sentiment                 0\n",
              "Sentiment_Polarity        0\n",
              "Sentiment_Subjectivity    0\n",
              "dtype: int64"
            ]
          },
          "metadata": {},
          "execution_count": 37
        }
      ]
    },
    {
      "cell_type": "code",
      "metadata": {
        "colab": {
          "base_uri": "https://localhost:8080/"
        },
        "id": "20QZcuBltMBv",
        "outputId": "5794b321-9348-40b0-c5b1-8a033722dc27"
      },
      "source": [
        "usr_df.shape"
      ],
      "execution_count": 38,
      "outputs": [
        {
          "output_type": "execute_result",
          "data": {
            "text/plain": [
              "(29692, 5)"
            ]
          },
          "metadata": {},
          "execution_count": 38
        }
      ]
    },
    {
      "cell_type": "code",
      "metadata": {
        "colab": {
          "base_uri": "https://localhost:8080/",
          "height": 294
        },
        "id": "pe9jUa33tPuw",
        "outputId": "eb818285-743d-48ee-f5fb-0e02e943902f"
      },
      "source": [
        "usr_df.describe()"
      ],
      "execution_count": 39,
      "outputs": [
        {
          "output_type": "execute_result",
          "data": {
            "text/html": [
              "<div>\n",
              "<style scoped>\n",
              "    .dataframe tbody tr th:only-of-type {\n",
              "        vertical-align: middle;\n",
              "    }\n",
              "\n",
              "    .dataframe tbody tr th {\n",
              "        vertical-align: top;\n",
              "    }\n",
              "\n",
              "    .dataframe thead th {\n",
              "        text-align: right;\n",
              "    }\n",
              "</style>\n",
              "<table border=\"1\" class=\"dataframe\">\n",
              "  <thead>\n",
              "    <tr style=\"text-align: right;\">\n",
              "      <th></th>\n",
              "      <th>Sentiment_Polarity</th>\n",
              "      <th>Sentiment_Subjectivity</th>\n",
              "    </tr>\n",
              "  </thead>\n",
              "  <tbody>\n",
              "    <tr>\n",
              "      <th>count</th>\n",
              "      <td>29692.000000</td>\n",
              "      <td>29692.000000</td>\n",
              "    </tr>\n",
              "    <tr>\n",
              "      <th>mean</th>\n",
              "      <td>0.188868</td>\n",
              "      <td>0.490930</td>\n",
              "    </tr>\n",
              "    <tr>\n",
              "      <th>std</th>\n",
              "      <td>0.355694</td>\n",
              "      <td>0.265976</td>\n",
              "    </tr>\n",
              "    <tr>\n",
              "      <th>min</th>\n",
              "      <td>-1.000000</td>\n",
              "      <td>0.000000</td>\n",
              "    </tr>\n",
              "    <tr>\n",
              "      <th>25%</th>\n",
              "      <td>0.000000</td>\n",
              "      <td>0.350000</td>\n",
              "    </tr>\n",
              "    <tr>\n",
              "      <th>50%</th>\n",
              "      <td>0.157143</td>\n",
              "      <td>0.514286</td>\n",
              "    </tr>\n",
              "    <tr>\n",
              "      <th>75%</th>\n",
              "      <td>0.422917</td>\n",
              "      <td>0.652703</td>\n",
              "    </tr>\n",
              "    <tr>\n",
              "      <th>max</th>\n",
              "      <td>1.000000</td>\n",
              "      <td>1.000000</td>\n",
              "    </tr>\n",
              "  </tbody>\n",
              "</table>\n",
              "</div>"
            ],
            "text/plain": [
              "       Sentiment_Polarity  Sentiment_Subjectivity\n",
              "count        29692.000000            29692.000000\n",
              "mean             0.188868                0.490930\n",
              "std              0.355694                0.265976\n",
              "min             -1.000000                0.000000\n",
              "25%              0.000000                0.350000\n",
              "50%              0.157143                0.514286\n",
              "75%              0.422917                0.652703\n",
              "max              1.000000                1.000000"
            ]
          },
          "metadata": {},
          "execution_count": 39
        }
      ]
    },
    {
      "cell_type": "markdown",
      "metadata": {
        "id": "XMCgAVsTtfiJ"
      },
      "source": [
        "# DATA VISUALIZATION"
      ]
    },
    {
      "cell_type": "code",
      "metadata": {
        "id": "fbsDeD8utjYG"
      },
      "source": [
        "import seaborn as sns\n",
        "import matplotlib\n",
        "import matplotlib.pyplot as plt\n",
        "%matplotlib inline\n"
      ],
      "execution_count": 40,
      "outputs": []
    },
    {
      "cell_type": "code",
      "metadata": {
        "colab": {
          "base_uri": "https://localhost:8080/",
          "height": 171
        },
        "id": "cPmTj_SQtoWP",
        "outputId": "e92ff393-7efa-4817-cdaa-138b0b06a517"
      },
      "source": [
        "#Creating correlation heatmap\n",
        "plstr_df.corr()"
      ],
      "execution_count": 41,
      "outputs": [
        {
          "output_type": "execute_result",
          "data": {
            "text/html": [
              "<div>\n",
              "<style scoped>\n",
              "    .dataframe tbody tr th:only-of-type {\n",
              "        vertical-align: middle;\n",
              "    }\n",
              "\n",
              "    .dataframe tbody tr th {\n",
              "        vertical-align: top;\n",
              "    }\n",
              "\n",
              "    .dataframe thead th {\n",
              "        text-align: right;\n",
              "    }\n",
              "</style>\n",
              "<table border=\"1\" class=\"dataframe\">\n",
              "  <thead>\n",
              "    <tr style=\"text-align: right;\">\n",
              "      <th></th>\n",
              "      <th>Reviews</th>\n",
              "      <th>Size</th>\n",
              "      <th>Installs</th>\n",
              "      <th>Price</th>\n",
              "    </tr>\n",
              "  </thead>\n",
              "  <tbody>\n",
              "    <tr>\n",
              "      <th>Reviews</th>\n",
              "      <td>1.000000</td>\n",
              "      <td>0.236126</td>\n",
              "      <td>0.633422</td>\n",
              "      <td>-0.009562</td>\n",
              "    </tr>\n",
              "    <tr>\n",
              "      <th>Size</th>\n",
              "      <td>0.236126</td>\n",
              "      <td>1.000000</td>\n",
              "      <td>0.166960</td>\n",
              "      <td>-0.026730</td>\n",
              "    </tr>\n",
              "    <tr>\n",
              "      <th>Installs</th>\n",
              "      <td>0.633422</td>\n",
              "      <td>0.166960</td>\n",
              "      <td>1.000000</td>\n",
              "      <td>-0.011334</td>\n",
              "    </tr>\n",
              "    <tr>\n",
              "      <th>Price</th>\n",
              "      <td>-0.009562</td>\n",
              "      <td>-0.026730</td>\n",
              "      <td>-0.011334</td>\n",
              "      <td>1.000000</td>\n",
              "    </tr>\n",
              "  </tbody>\n",
              "</table>\n",
              "</div>"
            ],
            "text/plain": [
              "           Reviews      Size  Installs     Price\n",
              "Reviews   1.000000  0.236126  0.633422 -0.009562\n",
              "Size      0.236126  1.000000  0.166960 -0.026730\n",
              "Installs  0.633422  0.166960  1.000000 -0.011334\n",
              "Price    -0.009562 -0.026730 -0.011334  1.000000"
            ]
          },
          "metadata": {},
          "execution_count": 41
        }
      ]
    },
    {
      "cell_type": "code",
      "metadata": {
        "colab": {
          "base_uri": "https://localhost:8080/",
          "height": 574
        },
        "id": "1uXj43-VlSeJ",
        "outputId": "a61611a9-6d78-4bbf-cbe2-8747d340af8c"
      },
      "source": [
        "#Basic pie chart to view distribution of apps across various categories\n",
        "fig, ax = plt.subplots(figsize=(10, 10), subplot_kw=dict(aspect=\"equal\"))\n",
        "number_of_apps = plstr_df[\"Category\"].value_counts()\n",
        "labels = number_of_apps.index\n",
        "sizes = number_of_apps.values\n",
        "ax.pie(sizes,labeldistance=2,autopct='%1.1f%%')\n",
        "ax.legend(labels=labels,loc=\"right\",bbox_to_anchor=(0.9, 0, 0.5, 1))\n",
        "ax.axis(\"equal\")\n",
        "plt.show()"
      ],
      "execution_count": 52,
      "outputs": [
        {
          "output_type": "display_data",
          "data": {
            "image/png": "[encoded data removed]",
            "text/plain": [
              "<Figure size 720x720 with 1 Axes>"
            ]
          },
          "metadata": {}
        }
      ]
    },
    {
      "cell_type": "markdown",
      "metadata": {
        "id": "JgRq4RIMu2Yi"
      },
      "source": [
        "# Above graph represents unique column of our Play Store App Dataset "
      ]
    },
    {
      "cell_type": "code",
      "metadata": {
        "colab": {
          "base_uri": "https://localhost:8080/",
          "height": 704
        },
        "id": "5q7cwpNSgRb_",
        "outputId": "3d05f494-f41e-4eb7-860a-a00f5328cfeb"
      },
      "source": [
        "plt.figure(figsize=(12,12))\n",
        "labels = plstr_df['Content Rating'].value_counts(sort = True).index\n",
        "sizes = plstr_df['Content Rating'].value_counts(sort = True)\n",
        "colors = [\"blue\",\"orange\",\"green\",\"red\"]\n",
        "#explode = (0.2,0)\n",
        "plt.pie(sizes, explode=None, labels=labels, colors=colors, autopct='%1.1f%%', shadow=True, startangle=0)\n",
        "plt.title('Content Ratings Distribution',size = 20)\n",
        "plt.show()"
      ],
      "execution_count": 53,
      "outputs": [
        {
          "output_type": "display_data",
          "data": {
            "image/png": "[encoded data removed]",
            "text/plain": [
              "<Figure size 864x864 with 1 Axes>"
            ]
          },
          "metadata": {}
        }
      ]
    },
    {
      "cell_type": "markdown",
      "metadata": {
        "id": "8NeKDKAKuWRJ"
      },
      "source": [
        "# Above graph shows that \"Everyone\" is the heighest Content Rating there. "
      ]
    },
    {
      "cell_type": "code",
      "metadata": {
        "colab": {
          "base_uri": "https://localhost:8080/",
          "height": 595
        },
        "id": "URr6RoCKlkDp",
        "outputId": "8b53bacf-563c-4d6a-c10e-2a8668ebcead"
      },
      "source": [
        "plt.figure(figsize=(10,10))\n",
        "labels = plstr_df['Type'].value_counts(sort = True).index\n",
        "sizes = plstr_df['Type'].value_counts(sort = True)\n",
        "colors = [\"blue\",\"orange\"]\n",
        "explode = (0.2,0)\n",
        "plt.pie(sizes, explode=explode, labels=labels, colors=colors, autopct='%1.1f%%', shadow=True, startangle=0)\n",
        "plt.title('Percent of Free Vs Paid Apps in store',size = 20)\n",
        "plt.show()"
      ],
      "execution_count": 54,
      "outputs": [
        {
          "output_type": "display_data",
          "data": {
            "image/png": "[encoded data removed]",
            "text/plain": [
              "<Figure size 720x720 with 1 Axes>"
            ]
          },
          "metadata": {}
        }
      ]
    },
    {
      "cell_type": "markdown",
      "metadata": {
        "id": "nLafr7KNl9WZ"
      },
      "source": [
        "# In The above graph we can see there is 93% of apps are free in the play store"
      ]
    },
    {
      "cell_type": "code",
      "metadata": {
        "colab": {
          "base_uri": "https://localhost:8080/"
        },
        "id": "WU59OL-fluYk",
        "outputId": "a4426c82-5cf8-424a-e3f5-3efdff87f667"
      },
      "source": [
        "grp=plstr_df.groupby('Category')\n",
        "i=grp['Installs'].agg(np.mean)\n",
        "p=grp['Price'].agg(np.mean)\n",
        "r=grp['Reviews'].agg(np.mean)\n",
        "s=grp['Size'].agg(np.mean)\n",
        "print(i)\n",
        "print(p)\n",
        "print(r)\n",
        "print(s)"
      ],
      "execution_count": 55,
      "outputs": [
        {
          "output_type": "stream",
          "text": [
            "Category\n",
            "ART_AND_DESIGN         2.036526e+06\n",
            "AUTO_AND_VEHICLES      7.278055e+05\n",
            "BEAUTY                 6.408619e+05\n",
            "BOOKS_AND_REFERENCE    1.082651e+07\n",
            "BUSINESS               3.198215e+06\n",
            "COMICS                 9.661397e+05\n",
            "COMMUNICATION          7.867180e+07\n",
            "DATING                 1.298883e+06\n",
            "EDUCATION              4.138388e+06\n",
            "ENTERTAINMENT          2.212306e+07\n",
            "EVENTS                 3.544313e+05\n",
            "FAMILY                 5.848038e+06\n",
            "FINANCE                2.430008e+06\n",
            "FOOD_AND_DRINK         2.431866e+06\n",
            "GAME                   2.937045e+07\n",
            "HEALTH_AND_FITNESS     5.194680e+06\n",
            "HOUSE_AND_HOME         1.839441e+06\n",
            "LIBRARIES_AND_DEMO     9.544219e+05\n",
            "LIFESTYLE              1.753250e+06\n",
            "MAPS_AND_NAVIGATION    5.840867e+06\n",
            "MEDICAL                1.396115e+05\n",
            "NEWS_AND_MAGAZINES     2.520145e+07\n",
            "PARENTING              6.223222e+05\n",
            "PERSONALIZATION        6.734876e+06\n",
            "PHOTOGRAPHY            3.197777e+07\n",
            "PRODUCTIVITY           3.731458e+07\n",
            "SHOPPING               1.273927e+07\n",
            "SOCIAL                 5.128624e+07\n",
            "SPORTS                 5.344516e+06\n",
            "TOOLS                  1.562104e+07\n",
            "TRAVEL_AND_LOCAL       3.103346e+07\n",
            "VIDEO_PLAYERS          3.888686e+07\n",
            "WEATHER                5.681287e+06\n",
            "Name: Installs, dtype: float64\n",
            "Category\n",
            "ART_AND_DESIGN         0.097869\n",
            "AUTO_AND_VEHICLES      0.027260\n",
            "BEAUTY                 0.000000\n",
            "BOOKS_AND_REFERENCE    0.134915\n",
            "BUSINESS               0.238556\n",
            "COMICS                 0.000000\n",
            "COMMUNICATION          0.184658\n",
            "DATING                 0.144403\n",
            "EDUCATION              0.139225\n",
            "ENTERTAINMENT          0.071892\n",
            "EVENTS                 0.000000\n",
            "FAMILY                 1.328940\n",
            "FINANCE                7.696751\n",
            "FOOD_AND_DRINK         0.080000\n",
            "GAME                   0.261043\n",
            "HEALTH_AND_FITNESS     0.161794\n",
            "HOUSE_AND_HOME         0.000000\n",
            "LIBRARIES_AND_DEMO     0.000000\n",
            "LIFESTYLE              6.429115\n",
            "MAPS_AND_NAVIGATION    0.217339\n",
            "MEDICAL                2.148543\n",
            "NEWS_AND_MAGAZINES     0.018598\n",
            "PARENTING              0.191600\n",
            "PERSONALIZATION        0.401883\n",
            "PHOTOGRAPHY            0.250855\n",
            "PRODUCTIVITY           0.212335\n",
            "SHOPPING               0.027129\n",
            "SOCIAL                 0.008115\n",
            "SPORTS                 0.325909\n",
            "TOOLS                  0.283629\n",
            "TRAVEL_AND_LOCAL       0.182878\n",
            "VIDEO_PLAYERS          0.065375\n",
            "WEATHER                0.392400\n",
            "Name: Price, dtype: float64\n",
            "Category\n",
            "ART_AND_DESIGN         2.810356e+04\n",
            "AUTO_AND_VEHICLES      1.594014e+04\n",
            "BEAUTY                 9.407929e+03\n",
            "BOOKS_AND_REFERENCE    1.235752e+05\n",
            "BUSINESS               4.576928e+04\n",
            "COMICS                 5.830940e+04\n",
            "COMMUNICATION          1.958544e+06\n",
            "DATING                 3.487525e+04\n",
            "EDUCATION              1.795715e+05\n",
            "ENTERTAINMENT          4.285650e+05\n",
            "EVENTS                 3.568667e+03\n",
            "FAMILY                 2.310824e+05\n",
            "FINANCE                5.362640e+04\n",
            "FOOD_AND_DRINK         7.237033e+04\n",
            "GAME                   1.318002e+06\n",
            "HEALTH_AND_FITNESS     1.177293e+05\n",
            "HOUSE_AND_HOME         4.109399e+04\n",
            "LIBRARIES_AND_DEMO     1.583422e+04\n",
            "LIFESTYLE              4.203134e+04\n",
            "MAPS_AND_NAVIGATION    2.472505e+05\n",
            "MEDICAL                4.623930e+03\n",
            "NEWS_AND_MAGAZINES     1.787145e+05\n",
            "PARENTING              1.907218e+04\n",
            "PERSONALIZATION        2.441312e+05\n",
            "PHOTOGRAPHY            6.720308e+05\n",
            "PRODUCTIVITY           3.070486e+05\n",
            "SHOPPING               4.699553e+05\n",
            "SOCIAL                 2.186789e+06\n",
            "SPORTS                 2.283990e+05\n",
            "TOOLS                  3.726878e+05\n",
            "TRAVEL_AND_LOCAL       2.710488e+05\n",
            "VIDEO_PLAYERS          6.898731e+05\n",
            "WEATHER                1.947293e+05\n",
            "Name: Reviews, dtype: float64\n",
            "Category\n",
            "ART_AND_DESIGN         10123.508621\n",
            "AUTO_AND_VEHICLES      19529.014286\n",
            "BEAUTY                 13029.513514\n",
            "BOOKS_AND_REFERENCE    11424.624476\n",
            "BUSINESS               11450.491556\n",
            "COMICS                 10778.973469\n",
            "COMMUNICATION          10216.701456\n",
            "DATING                 15208.065957\n",
            "EDUCATION              18349.918947\n",
            "ENTERTAINMENT          21255.116418\n",
            "EVENTS                 11827.186842\n",
            "FAMILY                 28178.809308\n",
            "FINANCE                16695.339924\n",
            "FOOD_AND_DRINK         22964.508537\n",
            "GAME                   44591.178832\n",
            "HEALTH_AND_FITNESS     20887.648744\n",
            "HOUSE_AND_HOME         14702.978000\n",
            "LIBRARIES_AND_DEMO     11312.529508\n",
            "LIFESTYLE              13063.705128\n",
            "MAPS_AND_NAVIGATION    15105.924211\n",
            "MEDICAL                17475.059567\n",
            "NEWS_AND_MAGAZINES      9739.378395\n",
            "PARENTING              19456.670455\n",
            "PERSONALIZATION         8792.397834\n",
            "PHOTOGRAPHY            14559.470667\n",
            "PRODUCTIVITY           10219.492208\n",
            "SHOPPING               15083.077987\n",
            "SOCIAL                 15919.481176\n",
            "SPORTS                 24901.989224\n",
            "TOOLS                   5615.815324\n",
            "TRAVEL_AND_LOCAL       23715.822449\n",
            "VIDEO_PLAYERS          13957.209483\n",
            "WEATHER                10817.923529\n",
            "Name: Size, dtype: float64\n"
          ],
          "name": "stdout"
        }
      ]
    },
    {
      "cell_type": "code",
      "metadata": {
        "colab": {
          "base_uri": "https://localhost:8080/",
          "height": 493
        },
        "id": "N28mrd7UmRK2",
        "outputId": "545079f1-06aa-495d-f64c-e91f86901277"
      },
      "source": [
        "#lets see category vs installs\n",
        "plt.figure(figsize=(16,5))\n",
        "plt.plot(i,'ro',color='blue')\n",
        "plt.xticks(rotation=90)\n",
        "plt.title('category vs Installs',color = 'red',fontsize=30)\n",
        "plt.xlabel('category------>',color = 'green',fontsize=25)\n",
        "plt.ylabel('Installs------>',color = 'green',fontsize=25)\n",
        "plt.show()"
      ],
      "execution_count": 56,
      "outputs": [
        {
          "output_type": "display_data",
          "data": {
            "image/png": "[encoded data removed]",
            "text/plain": [
              "<Figure size 1152x360 with 1 Axes>"
            ]
          },
          "metadata": {
            "needs_background": "light"
          }
        }
      ]
    },
    {
      "cell_type": "markdown",
      "metadata": {
        "id": "wmHDqtb4t3Nn"
      },
      "source": [
        "# In the above graph we can see that the heighest number of installs are of Communication category."
      ]
    },
    {
      "cell_type": "code",
      "metadata": {
        "colab": {
          "base_uri": "https://localhost:8080/",
          "height": 678
        },
        "id": "iwT7y_05miI0",
        "outputId": "943d293d-56cc-4fc6-b03d-642e9a9c4e5a"
      },
      "source": [
        "plt.figure(figsize=(20,10))\n",
        "sns.countplot(plstr_df.Installs)"
      ],
      "execution_count": 63,
      "outputs": [
        {
          "output_type": "stream",
          "text": [
            "/usr/local/lib/python3.7/dist-packages/seaborn/_decorators.py:43: FutureWarning: Pass the following variable as a keyword arg: x. From version 0.12, the only valid positional argument will be `data`, and passing other arguments without an explicit keyword will result in an error or misinterpretation.\n",
            "  FutureWarning\n"
          ],
          "name": "stderr"
        },
        {
          "output_type": "execute_result",
          "data": {
            "text/plain": [
              "<matplotlib.axes._subplots.AxesSubplot at 0x7f0da47e0a10>"
            ]
          },
          "metadata": {},
          "execution_count": 63
        },
        {
          "output_type": "display_data",
          "data": {
            "image/png": "[encoded data removed]",
            "text/plain": [
              "<Figure size 1440x720 with 1 Axes>"
            ]
          },
          "metadata": {
            "needs_background": "light"
          }
        }
      ]
    },
    {
      "cell_type": "code",
      "metadata": {
        "colab": {
          "base_uri": "https://localhost:8080/"
        },
        "id": "kVVqqixLmsJw",
        "outputId": "7d34b9e5-e663-4628-da0a-59114753f4bb"
      },
      "source": [
        "plstr_df.Installs.value_counts().sort_index()"
      ],
      "execution_count": 58,
      "outputs": [
        {
          "output_type": "execute_result",
          "data": {
            "text/plain": [
              "1.000000e+00       3\n",
              "5.000000e+00       9\n",
              "1.000000e+01      69\n",
              "5.000000e+01      56\n",
              "1.000000e+02     303\n",
              "5.000000e+02     199\n",
              "1.000000e+03     697\n",
              "5.000000e+03     425\n",
              "1.000000e+04     988\n",
              "5.000000e+04     461\n",
              "1.000000e+05    1110\n",
              "5.000000e+05     515\n",
              "1.000000e+06    1485\n",
              "5.000000e+06     683\n",
              "1.000000e+07    1132\n",
              "5.000000e+07     272\n",
              "1.000000e+08     369\n",
              "5.000000e+08      61\n",
              "1.000000e+09      49\n",
              "Name: Installs, dtype: int64"
            ]
          },
          "metadata": {},
          "execution_count": 58
        }
      ]
    },
    {
      "cell_type": "code",
      "metadata": {
        "colab": {
          "base_uri": "https://localhost:8080/",
          "height": 688
        },
        "id": "DI7ysDDUmx3t",
        "outputId": "f5bf68a0-3cc4-4243-9213-40e9b9044b1d"
      },
      "source": [
        "plt.figure(figsize=(15,10))\n",
        "sns.distplot(plstr_df.Reviews)"
      ],
      "execution_count": 61,
      "outputs": [
        {
          "output_type": "stream",
          "text": [
            "/usr/local/lib/python3.7/dist-packages/seaborn/distributions.py:2557: FutureWarning: `distplot` is a deprecated function and will be removed in a future version. Please adapt your code to use either `displot` (a figure-level function with similar flexibility) or `histplot` (an axes-level function for histograms).\n",
            "  warnings.warn(msg, FutureWarning)\n"
          ],
          "name": "stderr"
        },
        {
          "output_type": "execute_result",
          "data": {
            "text/plain": [
              "<matplotlib.axes._subplots.AxesSubplot at 0x7f0da63ffdd0>"
            ]
          },
          "metadata": {},
          "execution_count": 61
        },
        {
          "output_type": "display_data",
          "data": {
            "image/png": "[encoded data removed]",
            "text/plain": [
              "<Figure size 1080x720 with 1 Axes>"
            ]
          },
          "metadata": {
            "needs_background": "light"
          }
        }
      ]
    },
    {
      "cell_type": "code",
      "metadata": {
        "colab": {
          "base_uri": "https://localhost:8080/",
          "height": 678
        },
        "id": "kUlGrVZ0m6sG",
        "outputId": "05ebfd1e-54af-4738-c013-d6c1c49d62ef"
      },
      "source": [
        "plt.figure(figsize=(20,10))\n",
        "sns.countplot(plstr_df.Genres)"
      ],
      "execution_count": 65,
      "outputs": [
        {
          "output_type": "stream",
          "text": [
            "/usr/local/lib/python3.7/dist-packages/seaborn/_decorators.py:43: FutureWarning: Pass the following variable as a keyword arg: x. From version 0.12, the only valid positional argument will be `data`, and passing other arguments without an explicit keyword will result in an error or misinterpretation.\n",
            "  FutureWarning\n"
          ],
          "name": "stderr"
        },
        {
          "output_type": "execute_result",
          "data": {
            "text/plain": [
              "<matplotlib.axes._subplots.AxesSubplot at 0x7f0d9b964a10>"
            ]
          },
          "metadata": {},
          "execution_count": 65
        },
        {
          "output_type": "display_data",
          "data": {
            "image/png": "[encoded data removed]",
            "text/plain": [
              "<Figure size 1440x720 with 1 Axes>"
            ]
          },
          "metadata": {
            "needs_background": "light"
          }
        }
      ]
    },
    {
      "cell_type": "code",
      "metadata": {
        "colab": {
          "base_uri": "https://localhost:8080/",
          "height": 376
        },
        "id": "zu_6jSz0n5uA",
        "outputId": "397b78b8-eb6a-4cb6-efd6-ab50340977ec"
      },
      "source": [
        "plt.figure(figsize=(7,5))\n",
        "sns.barplot(x=plstr_df['Type'],y=plstr_df['Installs'])\n",
        "plt.xticks(rotation=0)\n",
        "plt.title('Installs vs Type',color = 'red',fontsize=30)\n",
        "plt.xlabel('Type------>',color = 'green',fontsize=25)\n",
        "plt.ylabel('Installs------>',color = 'green',fontsize=25)\n",
        "plt.show()"
      ],
      "execution_count": 75,
      "outputs": [
        {
          "output_type": "display_data",
          "data": {
            "image/png": "[encoded data removed]",
            "text/plain": [
              "<Figure size 504x360 with 1 Axes>"
            ]
          },
          "metadata": {
            "needs_background": "light"
          }
        }
      ]
    },
    {
      "cell_type": "markdown",
      "metadata": {
        "id": "sabAXtcpseFX"
      },
      "source": [
        "# In the above graph, heighest no. of installs are of \"free\" Type. "
      ]
    },
    {
      "cell_type": "code",
      "metadata": {
        "colab": {
          "base_uri": "https://localhost:8080/",
          "height": 471
        },
        "id": "ldrqYKz2qPhb",
        "outputId": "3fcd56f2-ec8f-4a91-862b-a3f575c6ac01"
      },
      "source": [
        "plt.figure(figsize=(10,7))\n",
        "sns.barplot(x=plstr_df['Content Rating'],y=plstr_df['Installs'])"
      ],
      "execution_count": 84,
      "outputs": [
        {
          "output_type": "execute_result",
          "data": {
            "text/plain": [
              "<matplotlib.axes._subplots.AxesSubplot at 0x7f0d88df0650>"
            ]
          },
          "metadata": {},
          "execution_count": 84
        },
        {
          "output_type": "display_data",
          "data": {
            "image/png": "[encoded data removed]",
            "text/plain": [
              "<Figure size 720x504 with 1 Axes>"
            ]
          },
          "metadata": {
            "needs_background": "light"
          }
        }
      ]
    },
    {
      "cell_type": "markdown",
      "metadata": {
        "id": "4QWb3DufrrUO"
      },
      "source": [
        "# As we can see in the above graph, \"Everyone 10+\" is the most installed Content Rating."
      ]
    }
  ]
}